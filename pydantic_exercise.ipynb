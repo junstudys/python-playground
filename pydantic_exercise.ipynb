{
 "cells": [
  {
   "cell_type": "markdown",
   "metadata": {},
   "source": [
    "题目一：Pydantic\n",
    "\n",
    "定义一个Pydantic模型来表示学生信息，包括姓名（name）、年龄（age）和成绩（score）字段。\n",
    "\n",
    "然后创建一个函数，接受一个包含多个学生信息的JSON列表作为参数，并返回成绩大于等于90分的学生姓名列表。"
   ]
  },
  {
   "cell_type": "code",
   "execution_count": 37,
   "metadata": {},
   "outputs": [
    {
     "name": "stdout",
     "output_type": "stream",
     "text": [
      "John Doe\n",
      "23\n",
      "99.5\n"
     ]
    }
   ],
   "source": [
    "from pydantic import BaseModel\n",
    "from typing import List\n",
    "import json\n",
    "\n",
    "class Student(BaseModel):\n",
    "    name:str\n",
    "    age:int\n",
    "    score:float\n",
    "\n",
    "external_data ={\n",
    "    'name':'John Doe',\n",
    "    'age':'23',\n",
    "    'score':'99.5',\n",
    "}\n",
    "\n",
    "user=Student(**external_data)\n",
    "print(user.name)\n",
    "print(user.age)\n",
    "print(user.score)\n",
    "\n",
    "def student_list(json_data:str) -> List[str]:\n",
    "    #加载json数据\n",
    "    students = json.loads(json_data)\n",
    "    #循环每个数据，获取score>=90的学生姓名\n",
    "    top_students = []\n",
    "    for student_data in students:\n",
    "        student=Student(**student_data)\n",
    "        if student.score >= 90:\n",
    "            top_students.append(student.name)\n",
    "    return top_students\n"
   ]
  }
 ],
 "metadata": {
  "kernelspec": {
   "display_name": "Python 3",
   "language": "python",
   "name": "python3"
  },
  "language_info": {
   "codemirror_mode": {
    "name": "ipython",
    "version": 3
   },
   "file_extension": ".py",
   "mimetype": "text/x-python",
   "name": "python",
   "nbconvert_exporter": "python",
   "pygments_lexer": "ipython3",
   "version": "3.11.3"
  },
  "orig_nbformat": 4
 },
 "nbformat": 4,
 "nbformat_minor": 2
}
